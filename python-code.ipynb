import numpy as np
import scipy
import scikit-learn
import matplotlib
import matplotlib.pyplot as plt
import pandas as pd
